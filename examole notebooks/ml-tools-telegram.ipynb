{
 "cells": [
  {
   "cell_type": "markdown",
   "id": "57c1a8f2",
   "metadata": {
    "papermill": {
     "duration": 0.006494,
     "end_time": "2024-06-20T13:18:35.518160",
     "exception": false,
     "start_time": "2024-06-20T13:18:35.511666",
     "status": "completed"
    },
    "tags": []
   },
   "source": [
    "# clone git and initail setup:"
   ]
  },
  {
   "cell_type": "code",
   "execution_count": null,
   "id": "f12565ae",
   "metadata": {
    "execution": {
     "iopub.execute_input": "2024-06-20T13:18:35.533198Z",
     "iopub.status.busy": "2024-06-20T13:18:35.532836Z",
     "iopub.status.idle": "2024-06-20T13:18:38.833115Z",
     "shell.execute_reply": "2024-06-20T13:18:38.831793Z"
    },
    "papermill": {
     "duration": 3.310722,
     "end_time": "2024-06-20T13:18:38.835652",
     "exception": false,
     "start_time": "2024-06-20T13:18:35.524930",
     "status": "completed"
    },
    "tags": []
   },
   "outputs": [],
   "source": [
    "%load_ext autoreload\n",
    "%reload_ext autoreload\n",
    "%autoreload 2\n",
    "\n",
    "import sys\n",
    "!rm -r ./ut_ml_tools &> /dev/null\n",
    "!git clone https://github.com/mortezaomidi24/ut_ml_tools.git &> /dev/null\n",
    "sys.path.append(\"/kaggle/working/ut_ml_tools\")\n",
    "print(\"clone done\")"
   ]
  },
  {
   "cell_type": "code",
   "execution_count": null,
   "id": "7ebd831d",
   "metadata": {
    "execution": {
     "iopub.execute_input": "2024-06-20T13:18:38.851278Z",
     "iopub.status.busy": "2024-06-20T13:18:38.850933Z",
     "iopub.status.idle": "2024-06-20T13:19:15.153344Z",
     "shell.execute_reply": "2024-06-20T13:19:15.151831Z"
    },
    "papermill": {
     "duration": 36.313551,
     "end_time": "2024-06-20T13:19:15.156336",
     "exception": false,
     "start_time": "2024-06-20T13:18:38.842785",
     "status": "completed"
    },
    "tags": []
   },
   "outputs": [],
   "source": [
    "!pip install -r ./ut_ml_tools/requirements.txt &> /dev/null"
   ]
  },
  {
   "cell_type": "code",
   "execution_count": null,
   "id": "991b4b31",
   "metadata": {
    "execution": {
     "iopub.execute_input": "2024-06-20T13:19:15.243899Z",
     "iopub.status.busy": "2024-06-20T13:19:15.243221Z",
     "iopub.status.idle": "2024-06-20T13:19:18.635377Z",
     "shell.execute_reply": "2024-06-20T13:19:18.634186Z"
    },
    "papermill": {
     "duration": 3.403115,
     "end_time": "2024-06-20T13:19:18.638227",
     "exception": false,
     "start_time": "2024-06-20T13:19:15.235112",
     "status": "completed"
    },
    "tags": []
   },
   "outputs": [],
   "source": [
    "from telegram_bot.telegram_functions import (\n",
    "    start_telegram_bot,\n",
    "    send_opts_to_telegram,\n",
    ")\n",
    "from tools.diagnose_tools import System_information"
   ]
  },
  {
   "cell_type": "code",
   "execution_count": null,
   "id": "c88665f0",
   "metadata": {
    "execution": {
     "iopub.execute_input": "2024-06-20T13:19:18.931379Z",
     "iopub.status.busy": "2024-06-20T13:19:18.930991Z",
     "iopub.status.idle": "2024-06-20T13:19:18.967682Z",
     "shell.execute_reply": "2024-06-20T13:19:18.966696Z"
    },
    "papermill": {
     "duration": 0.047231,
     "end_time": "2024-06-20T13:19:18.970331",
     "exception": false,
     "start_time": "2024-06-20T13:19:18.923100",
     "status": "completed"
    },
    "tags": []
   },
   "outputs": [],
   "source": [
    "##? ------------------------------------------------------------------    \n",
    "##? telegram bot:\n",
    "bot_token = 'add your telegram bot api key' #\n",
    "\n",
    "history = {} # a dict for add logs and info to it\n",
    "chat_id = \"add your telegram chat id\" #fitech_1\n",
    "bot,history = start_telegram_bot(bot_token = bot_token, chat_id=chat_id , history=history)"
   ]
  },
  {
   "cell_type": "code",
   "execution_count": null,
   "id": "aa207c2c",
   "metadata": {
    "execution": {
     "iopub.execute_input": "2024-06-20T13:19:39.399824Z",
     "iopub.status.busy": "2024-06-20T13:19:39.399434Z",
     "iopub.status.idle": "2024-06-20T13:19:46.568272Z",
     "shell.execute_reply": "2024-06-20T13:19:46.567136Z"
    },
    "papermill": {
     "duration": 7.184175,
     "end_time": "2024-06-20T13:19:46.571018",
     "exception": false,
     "start_time": "2024-06-20T13:19:39.386843",
     "status": "completed"
    },
    "tags": []
   },
   "outputs": [],
   "source": [
    "import torch\n",
    "import torch.nn as nn\n",
    "import torchvision.datasets as dsets\n",
    "import torchvision.transforms as transforms\n",
    "from torch.autograd import Variable\n",
    "\n",
    "hyper_params = {\n",
    "    \"sequence_length\": 28,\n",
    "    \"input_size\": 28,\n",
    "    \"hidden_size\": 128,\n",
    "    \"num_layers\": 2,\n",
    "    \"num_classes\": 10,\n",
    "    \"batch_size\": 100,\n",
    "    \"num_epochs\": 5,\n",
    "    \"learning_rate\": 0.01,\n",
    "}\n",
    "\n",
    "###? set opts to telegram:\n",
    "send_opts_to_telegram(bot,hyper_params)"
   ]
  },
  {
   "cell_type": "code",
   "execution_count": null,
   "id": "3ff93f97",
   "metadata": {
    "execution": {
     "iopub.execute_input": "2024-06-20T13:19:46.596938Z",
     "iopub.status.busy": "2024-06-20T13:19:46.596061Z",
     "iopub.status.idle": "2024-06-20T13:19:57.251618Z",
     "shell.execute_reply": "2024-06-20T13:19:57.250671Z"
    },
    "papermill": {
     "duration": 10.670742,
     "end_time": "2024-06-20T13:19:57.253812",
     "exception": false,
     "start_time": "2024-06-20T13:19:46.583070",
     "status": "completed"
    },
    "tags": []
   },
   "outputs": [],
   "source": [
    "# MNIST Dataset\n",
    "train_dataset = dsets.MNIST(\n",
    "    root=\"./data/\", train=True, transform=transforms.ToTensor(), download=True\n",
    ")\n",
    "\n",
    "test_dataset = dsets.MNIST(root=\"./data/\", train=False, transform=transforms.ToTensor())\n",
    "\n",
    "# Data Loader (Input Pipeline)\n",
    "train_loader = torch.utils.data.DataLoader(\n",
    "    dataset=train_dataset, batch_size=hyper_params[\"batch_size\"], shuffle=True\n",
    ")\n",
    "\n",
    "test_loader = torch.utils.data.DataLoader(\n",
    "    dataset=test_dataset, batch_size=hyper_params[\"batch_size\"], shuffle=False\n",
    ")\n",
    "\n",
    "bot.send_message(text=f'train_loader size: {len(train_loader)}')\n",
    "bot.send_message(text=f'test_loader size: {len(test_loader)}')"
   ]
  },
  {
   "cell_type": "code",
   "execution_count": null,
   "id": "9d3d9c9a",
   "metadata": {
    "execution": {
     "iopub.execute_input": "2024-06-20T13:19:57.287710Z",
     "iopub.status.busy": "2024-06-20T13:19:57.287326Z",
     "iopub.status.idle": "2024-06-20T13:19:57.336901Z",
     "shell.execute_reply": "2024-06-20T13:19:57.335682Z"
    },
    "papermill": {
     "duration": 0.069696,
     "end_time": "2024-06-20T13:19:57.339666",
     "exception": false,
     "start_time": "2024-06-20T13:19:57.269970",
     "status": "completed"
    },
    "tags": []
   },
   "outputs": [],
   "source": [
    "# RNN Model (Many-to-One)\n",
    "class RNN(nn.Module):\n",
    "    def __init__(self, input_size, hidden_size, num_layers, num_classes):\n",
    "        super(RNN, self).__init__()\n",
    "        self.hidden_size = hidden_size\n",
    "        self.num_layers = num_layers\n",
    "        self.lstm = nn.LSTM(input_size, hidden_size, num_layers, batch_first=True)\n",
    "        self.fc = nn.Linear(hidden_size, num_classes)\n",
    "\n",
    "    def forward(self, x):\n",
    "        # Set initial states\n",
    "        h0 = Variable(torch.zeros(self.num_layers, x.size(0), self.hidden_size))\n",
    "        c0 = Variable(torch.zeros(self.num_layers, x.size(0), self.hidden_size))\n",
    "\n",
    "        # Forward propagate RNN\n",
    "        out, _ = self.lstm(x, (h0, c0))\n",
    "\n",
    "        # Decode hidden state of last time step\n",
    "        out = self.fc(out[:, -1, :])\n",
    "        return out"
   ]
  },
  {
   "cell_type": "code",
   "execution_count": null,
   "id": "31d01eeb",
   "metadata": {
    "execution": {
     "iopub.execute_input": "2024-06-20T13:19:57.374975Z",
     "iopub.status.busy": "2024-06-20T13:19:57.374558Z",
     "iopub.status.idle": "2024-06-20T13:19:57.434641Z",
     "shell.execute_reply": "2024-06-20T13:19:57.433642Z"
    },
    "papermill": {
     "duration": 0.081183,
     "end_time": "2024-06-20T13:19:57.437346",
     "exception": false,
     "start_time": "2024-06-20T13:19:57.356163",
     "status": "completed"
    },
    "tags": []
   },
   "outputs": [],
   "source": [
    "rnn = RNN(\n",
    "    hyper_params[\"input_size\"],\n",
    "    hyper_params[\"hidden_size\"],\n",
    "    hyper_params[\"num_layers\"],\n",
    "    hyper_params[\"num_classes\"],\n",
    ")\n",
    "\n",
    "# Loss and Optimizer\n",
    "criterion = nn.CrossEntropyLoss()\n",
    "optimizer = torch.optim.Adam(rnn.parameters(), lr=hyper_params[\"learning_rate\"])"
   ]
  },
  {
   "cell_type": "code",
   "execution_count": null,
   "id": "9238154c",
   "metadata": {
    "execution": {
     "iopub.execute_input": "2024-06-20T13:19:57.472511Z",
     "iopub.status.busy": "2024-06-20T13:19:57.472106Z",
     "iopub.status.idle": "2024-06-20T13:19:58.100158Z",
     "shell.execute_reply": "2024-06-20T13:19:58.099031Z"
    },
    "papermill": {
     "duration": 0.649027,
     "end_time": "2024-06-20T13:19:58.102456",
     "exception": false,
     "start_time": "2024-06-20T13:19:57.453429",
     "status": "completed"
    },
    "tags": []
   },
   "outputs": [],
   "source": [
    "bot.send_message(text=str(criterion))\n",
    "bot.send_message(text=str(optimizer))"
   ]
  },
  {
   "cell_type": "code",
   "execution_count": null,
   "id": "ebd85305",
   "metadata": {
    "execution": {
     "iopub.execute_input": "2024-06-20T13:19:58.138453Z",
     "iopub.status.busy": "2024-06-20T13:19:58.137570Z",
     "iopub.status.idle": "2024-06-20T13:21:05.065783Z",
     "shell.execute_reply": "2024-06-20T13:21:05.064393Z"
    },
    "papermill": {
     "duration": 66.948155,
     "end_time": "2024-06-20T13:21:05.067594",
     "exception": true,
     "start_time": "2024-06-20T13:19:58.119439",
     "status": "failed"
    },
    "tags": []
   },
   "outputs": [],
   "source": [
    "import time\n",
    "\n",
    "# Train the Model\n",
    "total_steps = len(train_dataset) // hyper_params[\"batch_size\"]\n",
    "train_start_epoch_time = int(time.time())\n",
    "bot.send_message(text=f'total_steps: {total_steps}')\n",
    "bot.send_message(text='='*30)\n",
    "bot.send_message(text='start traning:')\n",
    "\n",
    "step = 0\n",
    "for epoch in range(hyper_params[\"num_epochs\"]):\n",
    "    bot.send_message(text='-'*30)\n",
    "    bot.send_message(text=f'--> epoch: {epoch}')\n",
    "    correct = 0\n",
    "    total = 0\n",
    "    for i, (images, labels) in enumerate(train_loader):\n",
    "        images = Variable(\n",
    "            images.view(\n",
    "                -1, hyper_params[\"sequence_length\"], hyper_params[\"input_size\"]\n",
    "            )\n",
    "        )\n",
    "        labels = Variable(labels)\n",
    "\n",
    "        # Forward + Backward + Optimize\n",
    "        optimizer.zero_grad()\n",
    "        outputs = rnn(images)\n",
    "        loss = criterion(outputs, labels)\n",
    "        loss.backward()\n",
    "        optimizer.step()\n",
    "\n",
    "        # Compute train accuracy\n",
    "        _, predicted = torch.max(outputs.data, 1)\n",
    "        total += labels.size(0)\n",
    "        correct += float((predicted == labels.data).sum())\n",
    "        step += 1\n",
    "        \n",
    "        # print every 50 step\n",
    "        if (i + 1) % 50 == 0:\n",
    "            bot.send_message(f\"Epoch [{epoch + 1}/{hyper_params['num_epochs']}], Step [{i + 1}/{total_steps}], Loss: {loss.data.item()}, train accuracy: {100 * correct / total}\")\n",
    "            bot.get_new_order_from_telegram_bot(train_start_epoch_time)\n",
    "              "
   ]
  }
 ],
 "metadata": {
  "kaggle": {
   "accelerator": "none",
   "dataSources": [],
   "dockerImageVersionId": 30732,
   "isGpuEnabled": false,
   "isInternetEnabled": true,
   "language": "python",
   "sourceType": "notebook"
  },
  "kernelspec": {
   "display_name": "Python 3",
   "language": "python",
   "name": "python3"
  },
  "language_info": {
   "codemirror_mode": {
    "name": "ipython",
    "version": 3
   },
   "file_extension": ".py",
   "mimetype": "text/x-python",
   "name": "python",
   "nbconvert_exporter": "python",
   "pygments_lexer": "ipython3",
   "version": "3.10.13"
  },
  "papermill": {
   "default_parameters": {},
   "duration": 153.797602,
   "end_time": "2024-06-20T13:21:06.207932",
   "environment_variables": {},
   "exception": true,
   "input_path": "__notebook__.ipynb",
   "output_path": "__notebook__.ipynb",
   "parameters": {},
   "start_time": "2024-06-20T13:18:32.410330",
   "version": "2.5.0"
  }
 },
 "nbformat": 4,
 "nbformat_minor": 5
}
